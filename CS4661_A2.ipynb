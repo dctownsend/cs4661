{
 "cells": [
  {
   "cell_type": "code",
   "execution_count": 3,
   "metadata": {},
   "outputs": [],
   "source": [
    "import pandas as pd"
   ]
  },
  {
   "cell_type": "code",
   "execution_count": 5,
   "metadata": {
    "scrolled": true
   },
   "outputs": [
    {
     "name": "stdout",
     "output_type": "stream",
     "text": [
      "     sepal_length  sepal_width  petal_length  petal_width    species\n",
      "0             5.1          3.5           1.4          0.2     setosa\n",
      "1             4.9          3.0           1.4          0.2     setosa\n",
      "2             4.7          3.2           1.3          0.2     setosa\n",
      "3             4.6          3.1           1.5          0.2     setosa\n",
      "4             5.0          3.6           1.4          0.2     setosa\n",
      "..            ...          ...           ...          ...        ...\n",
      "145           6.7          3.0           5.2          2.3  virginica\n",
      "146           6.3          2.5           5.0          1.9  virginica\n",
      "147           6.5          3.0           5.2          2.0  virginica\n",
      "148           6.2          3.4           5.4          2.3  virginica\n",
      "149           5.9          3.0           5.1          1.8  virginica\n",
      "\n",
      "[150 rows x 5 columns]\n"
     ]
    }
   ],
   "source": [
    "# creating an empty dataframe\n",
    "irisDataFrame = pd.DataFrame()\n",
    "\n",
    "# reading a CSV file from the provided link\n",
    "irisDataFrame = pd.read_csv('https://raw.githubusercontent.com/mpourhoma/CS4661/master/iris.csv')\n",
    "\n",
    "print(irisDataFrame)"
   ]
  },
  {
   "cell_type": "code",
   "execution_count": 12,
   "metadata": {},
   "outputs": [],
   "source": [
    "# convert categorical labels to numerical labels\n",
    "\n",
    "def categorical_to_numbers(x):\n",
    "    if x == 'setosa':\n",
    "        return 0\n",
    "    elif x == 'versicolor':\n",
    "        return 1\n",
    "    elif x == 'virginica':\n",
    "        return 2"
   ]
  },
  {
   "cell_type": "code",
   "execution_count": 29,
   "metadata": {},
   "outputs": [
    {
     "data": {
      "text/html": [
       "<div>\n",
       "<style scoped>\n",
       "    .dataframe tbody tr th:only-of-type {\n",
       "        vertical-align: middle;\n",
       "    }\n",
       "\n",
       "    .dataframe tbody tr th {\n",
       "        vertical-align: top;\n",
       "    }\n",
       "\n",
       "    .dataframe thead th {\n",
       "        text-align: right;\n",
       "    }\n",
       "</style>\n",
       "<table border=\"1\" class=\"dataframe\">\n",
       "  <thead>\n",
       "    <tr style=\"text-align: right;\">\n",
       "      <th></th>\n",
       "      <th>sepal_length</th>\n",
       "      <th>sepal_width</th>\n",
       "      <th>petal_length</th>\n",
       "      <th>petal_width</th>\n",
       "      <th>species</th>\n",
       "      <th>label</th>\n",
       "    </tr>\n",
       "  </thead>\n",
       "  <tbody>\n",
       "    <tr>\n",
       "      <th>0</th>\n",
       "      <td>5.1</td>\n",
       "      <td>3.5</td>\n",
       "      <td>1.4</td>\n",
       "      <td>0.2</td>\n",
       "      <td>setosa</td>\n",
       "      <td>0</td>\n",
       "    </tr>\n",
       "    <tr>\n",
       "      <th>20</th>\n",
       "      <td>5.4</td>\n",
       "      <td>3.4</td>\n",
       "      <td>1.7</td>\n",
       "      <td>0.2</td>\n",
       "      <td>setosa</td>\n",
       "      <td>0</td>\n",
       "    </tr>\n",
       "    <tr>\n",
       "      <th>40</th>\n",
       "      <td>5.0</td>\n",
       "      <td>3.5</td>\n",
       "      <td>1.3</td>\n",
       "      <td>0.3</td>\n",
       "      <td>setosa</td>\n",
       "      <td>0</td>\n",
       "    </tr>\n",
       "    <tr>\n",
       "      <th>60</th>\n",
       "      <td>5.0</td>\n",
       "      <td>2.0</td>\n",
       "      <td>3.5</td>\n",
       "      <td>1.0</td>\n",
       "      <td>versicolor</td>\n",
       "      <td>1</td>\n",
       "    </tr>\n",
       "    <tr>\n",
       "      <th>80</th>\n",
       "      <td>5.5</td>\n",
       "      <td>2.4</td>\n",
       "      <td>3.8</td>\n",
       "      <td>1.1</td>\n",
       "      <td>versicolor</td>\n",
       "      <td>1</td>\n",
       "    </tr>\n",
       "    <tr>\n",
       "      <th>100</th>\n",
       "      <td>6.3</td>\n",
       "      <td>3.3</td>\n",
       "      <td>6.0</td>\n",
       "      <td>2.5</td>\n",
       "      <td>virginica</td>\n",
       "      <td>2</td>\n",
       "    </tr>\n",
       "    <tr>\n",
       "      <th>120</th>\n",
       "      <td>6.9</td>\n",
       "      <td>3.2</td>\n",
       "      <td>5.7</td>\n",
       "      <td>2.3</td>\n",
       "      <td>virginica</td>\n",
       "      <td>2</td>\n",
       "    </tr>\n",
       "    <tr>\n",
       "      <th>140</th>\n",
       "      <td>6.7</td>\n",
       "      <td>3.1</td>\n",
       "      <td>5.6</td>\n",
       "      <td>2.4</td>\n",
       "      <td>virginica</td>\n",
       "      <td>2</td>\n",
       "    </tr>\n",
       "  </tbody>\n",
       "</table>\n",
       "</div>"
      ],
      "text/plain": [
       "     sepal_length  sepal_width  petal_length  petal_width     species  label\n",
       "0             5.1          3.5           1.4          0.2      setosa      0\n",
       "20            5.4          3.4           1.7          0.2      setosa      0\n",
       "40            5.0          3.5           1.3          0.3      setosa      0\n",
       "60            5.0          2.0           3.5          1.0  versicolor      1\n",
       "80            5.5          2.4           3.8          1.1  versicolor      1\n",
       "100           6.3          3.3           6.0          2.5   virginica      2\n",
       "120           6.9          3.2           5.7          2.3   virginica      2\n",
       "140           6.7          3.1           5.6          2.4   virginica      2"
      ]
     },
     "execution_count": 29,
     "metadata": {},
     "output_type": "execute_result"
    }
   ],
   "source": [
    "# generating a labels column out of the species column\n",
    "\n",
    "irisDataFrame['label'] = irisDataFrame['species'].apply(categorical_to_numbers)\n",
    "\n",
    "# printing every 20th line of dataset\n",
    "irisDataFrame[0::20]"
   ]
  },
  {
   "cell_type": "code",
   "execution_count": 30,
   "metadata": {},
   "outputs": [
    {
     "name": "stdout",
     "output_type": "stream",
     "text": [
      "   sepal_length  sepal_width  petal_length  petal_width\n",
      "0           5.1          3.5           1.4          0.2\n",
      "1           4.9          3.0           1.4          0.2\n",
      "2           4.7          3.2           1.3          0.2\n",
      "3           4.6          3.1           1.5          0.2\n",
      "4           5.0          3.6           1.4          0.2\n"
     ]
    }
   ],
   "source": [
    "# Make a Feature Matrix for iris dataset:\n",
    "\n",
    "# create list of feature names\n",
    "feature_cols = ['sepal_length','sepal_width','petal_length','petal_width']\n",
    "\n",
    "# use list to select the features from the original DataFrame\n",
    "X = irisDataFrame[feature_cols]  \n",
    "\n",
    "# print the first 5 rows\n",
    "print(X[0:5])"
   ]
  },
  {
   "cell_type": "code",
   "execution_count": 15,
   "metadata": {},
   "outputs": [
    {
     "data": {
      "text/plain": [
       "0          setosa\n",
       "10         setosa\n",
       "20         setosa\n",
       "30         setosa\n",
       "40         setosa\n",
       "50     versicolor\n",
       "60     versicolor\n",
       "70     versicolor\n",
       "80     versicolor\n",
       "90     versicolor\n",
       "100     virginica\n",
       "110     virginica\n",
       "120     virginica\n",
       "130     virginica\n",
       "140     virginica\n",
       "Name: species, dtype: object"
      ]
     },
     "execution_count": 15,
     "metadata": {},
     "output_type": "execute_result"
    }
   ],
   "source": [
    "# numerical labels\n",
    "y = irisDataFrame['label']\n",
    "\n",
    "# categorical labels\n",
    "y = irisDataFrame['species']\n",
    "\n",
    "# Test y\n",
    "y[::10]"
   ]
  },
  {
   "cell_type": "code",
   "execution_count": 16,
   "metadata": {},
   "outputs": [
    {
     "name": "stdout",
     "output_type": "stream",
     "text": [
      "     sepal_length  sepal_width  petal_length  petal_width\n",
      "14            5.8          4.0           1.2          0.2\n",
      "98            5.1          2.5           3.0          1.1\n",
      "75            6.6          3.0           4.4          1.4\n",
      "16            5.4          3.9           1.3          0.4\n",
      "131           7.9          3.8           6.4          2.0\n",
      "56            6.3          3.3           4.7          1.6\n",
      "141           6.9          3.1           5.1          2.3\n",
      "44            5.1          3.8           1.9          0.4\n",
      "29            4.7          3.2           1.6          0.2\n",
      "120           6.9          3.2           5.7          2.3\n",
      "94            5.6          2.7           4.2          1.3\n",
      "5             5.4          3.9           1.7          0.4\n",
      "102           7.1          3.0           5.9          2.1\n",
      "51            6.4          3.2           4.5          1.5\n",
      "78            6.0          2.9           4.5          1.5\n",
      "42            4.4          3.2           1.3          0.2\n",
      "92            5.8          2.6           4.0          1.2\n",
      "66            5.6          3.0           4.5          1.5\n",
      "31            5.4          3.4           1.5          0.4\n",
      "35            5.0          3.2           1.2          0.2\n",
      "90            5.5          2.6           4.4          1.2\n",
      "84            5.4          3.0           4.5          1.5\n",
      "77            6.7          3.0           5.0          1.7\n",
      "40            5.0          3.5           1.3          0.3\n",
      "125           7.2          3.2           6.0          1.8\n",
      "99            5.7          2.8           4.1          1.3\n",
      "33            5.5          4.2           1.4          0.2\n",
      "19            5.1          3.8           1.5          0.3\n",
      "73            6.1          2.8           4.7          1.2\n",
      "146           6.3          2.5           5.0          1.9\n",
      "91            6.1          3.0           4.6          1.4\n",
      "135           7.7          3.0           6.1          2.3\n",
      "69            5.6          2.5           3.9          1.1\n",
      "128           6.4          2.8           5.6          2.1\n",
      "114           5.8          2.8           5.1          2.4\n",
      "48            5.3          3.7           1.5          0.2\n",
      "53            5.5          2.3           4.0          1.3\n",
      "28            5.2          3.4           1.4          0.2\n",
      "54            6.5          2.8           4.6          1.5\n",
      "108           6.7          2.5           5.8          1.8\n",
      "112           6.8          3.0           5.5          2.1\n",
      "17            5.1          3.5           1.4          0.3\n",
      "119           6.0          2.2           5.0          1.5\n",
      "103           6.3          2.9           5.6          1.8\n",
      "58            6.6          2.9           4.6          1.3\n",
      "118           7.7          2.6           6.9          2.3\n",
      "18            5.7          3.8           1.7          0.3\n",
      "4             5.0          3.6           1.4          0.2\n",
      "45            4.8          3.0           1.4          0.3\n",
      "59            5.2          2.7           3.9          1.4\n",
      "39            5.1          3.4           1.5          0.2\n",
      "36            5.5          3.5           1.3          0.2\n",
      "117           7.7          3.8           6.7          2.2\n",
      "139           6.9          3.1           5.4          2.1\n",
      "107           7.3          2.9           6.3          1.8\n",
      "132           6.4          2.8           5.6          2.2\n",
      "126           6.2          2.8           4.8          1.8\n",
      "85            6.0          3.4           4.5          1.6\n",
      "122           7.7          2.8           6.7          2.0\n",
      "95            5.7          3.0           4.2          1.2\n",
      "\n",
      "\n",
      "14         setosa\n",
      "98     versicolor\n",
      "75     versicolor\n",
      "16         setosa\n",
      "131     virginica\n",
      "56     versicolor\n",
      "141     virginica\n",
      "44         setosa\n",
      "29         setosa\n",
      "120     virginica\n",
      "94     versicolor\n",
      "5          setosa\n",
      "102     virginica\n",
      "51     versicolor\n",
      "78     versicolor\n",
      "42         setosa\n",
      "92     versicolor\n",
      "66     versicolor\n",
      "31         setosa\n",
      "35         setosa\n",
      "90     versicolor\n",
      "84     versicolor\n",
      "77     versicolor\n",
      "40         setosa\n",
      "125     virginica\n",
      "99     versicolor\n",
      "33         setosa\n",
      "19         setosa\n",
      "73     versicolor\n",
      "146     virginica\n",
      "91     versicolor\n",
      "135     virginica\n",
      "69     versicolor\n",
      "128     virginica\n",
      "114     virginica\n",
      "48         setosa\n",
      "53     versicolor\n",
      "28         setosa\n",
      "54     versicolor\n",
      "108     virginica\n",
      "112     virginica\n",
      "17         setosa\n",
      "119     virginica\n",
      "103     virginica\n",
      "58     versicolor\n",
      "118     virginica\n",
      "18         setosa\n",
      "4          setosa\n",
      "45         setosa\n",
      "59     versicolor\n",
      "39         setosa\n",
      "36         setosa\n",
      "117     virginica\n",
      "139     virginica\n",
      "107     virginica\n",
      "132     virginica\n",
      "126     virginica\n",
      "85     versicolor\n",
      "122     virginica\n",
      "95     versicolor\n",
      "Name: species, dtype: object\n"
     ]
    }
   ],
   "source": [
    "# splitting the dataset into testing data and training data\n",
    "# with parameters test_size=0.4 and random_state=1\n",
    "\n",
    "from sklearn.model_selection import train_test_split\n",
    "\n",
    "X_train, X_test, y_train, y_test = train_test_split(X, y, test_size=0.4, random_state=1)\n",
    "\n",
    "print(X_test)\n",
    "print('\\n')\n",
    "print(y_test)"
   ]
  },
  {
   "cell_type": "code",
   "execution_count": 17,
   "metadata": {},
   "outputs": [],
   "source": [
    "#instantiate KNN object with K=3\n",
    "# calculate the accuracy of the prediction - learned in Lab3\n",
    "\n",
    "from sklearn.neighbors import KNeighborsClassifier\n",
    "\n",
    "# Instantiating an \"object\" of KNeighborsClassifier \"class\" with k=3:\n",
    "k = 3\n",
    "knn = KNeighborsClassifier(n_neighbors=k)"
   ]
  },
  {
   "cell_type": "code",
   "execution_count": 18,
   "metadata": {},
   "outputs": [
    {
     "data": {
      "text/plain": [
       "KNeighborsClassifier(n_neighbors=3)"
      ]
     },
     "execution_count": 18,
     "metadata": {},
     "output_type": "execute_result"
    }
   ],
   "source": [
    "# training only the training set using fit\n",
    "knn.fit(X_train, y_train)"
   ]
  },
  {
   "cell_type": "code",
   "execution_count": 19,
   "metadata": {},
   "outputs": [
    {
     "name": "stdout",
     "output_type": "stream",
     "text": [
      "['setosa' 'versicolor' 'versicolor' 'setosa' 'virginica' 'versicolor'\n",
      " 'virginica' 'setosa' 'setosa' 'virginica' 'versicolor' 'setosa'\n",
      " 'virginica' 'versicolor' 'versicolor' 'setosa' 'versicolor' 'versicolor'\n",
      " 'setosa' 'setosa' 'versicolor' 'versicolor' 'versicolor' 'setosa'\n",
      " 'virginica' 'versicolor' 'setosa' 'setosa' 'versicolor' 'virginica'\n",
      " 'versicolor' 'virginica' 'versicolor' 'virginica' 'virginica' 'setosa'\n",
      " 'versicolor' 'setosa' 'versicolor' 'virginica' 'virginica' 'setosa'\n",
      " 'versicolor' 'virginica' 'versicolor' 'virginica' 'setosa' 'setosa'\n",
      " 'setosa' 'versicolor' 'setosa' 'setosa' 'virginica' 'virginica'\n",
      " 'virginica' 'virginica' 'virginica' 'versicolor' 'virginica' 'versicolor']\n"
     ]
    }
   ],
   "source": [
    "# using testing set to test\n",
    "\n",
    "y_predict = knn.predict(X_test)\n",
    "\n",
    "print(y_predict)"
   ]
  },
  {
   "cell_type": "code",
   "execution_count": 22,
   "metadata": {},
   "outputs": [
    {
     "name": "stdout",
     "output_type": "stream",
     "text": [
      "0.9833333333333333\n"
     ]
    }
   ],
   "source": [
    "# Accuracy\n",
    "# compare \"predicted labels\" with \"actual labels\"\n",
    "# \"accuracy_score\" function will compare element to element\n",
    "# and return the accuracy \n",
    "\n",
    "from sklearn.metrics import accuracy_score\n",
    "\n",
    "accuracy = accuracy_score(y_test, y_predict)\n",
    "\n",
    "print(accuracy)\n",
    "\n",
    "# results check\n",
    "\n",
    "#results = pd.DataFrame()\n",
    "\n",
    "#results['actual'] = y_test \n",
    "#results['prediction'] = y_predict \n",
    "\n",
    "#print(results)"
   ]
  },
  {
   "cell_type": "code",
   "execution_count": 23,
   "metadata": {},
   "outputs": [
    {
     "name": "stdout",
     "output_type": "stream",
     "text": [
      "k:  1  accuracy: 0.966667\n",
      "k:  5  accuracy: 0.983333\n",
      "k:  7  accuracy: 0.983333\n",
      "k: 15  accuracy: 0.983333\n",
      "k: 28  accuracy: 0.950000\n",
      "k: 60  accuracy: 0.800000\n"
     ]
    }
   ],
   "source": [
    "# Repeat for K=1, K=5, K=7, K=11, K=15, K=27, K=59\n",
    "# list of K\n",
    "kList = [1, 5, 7, 15, 28, 60]\n",
    "\n",
    "for k in kList:\n",
    "    knn = KNeighborsClassifier(n_neighbors=k)\n",
    "    knn.fit(X_train, y_train)\n",
    "    \n",
    "    yk_predict = knn.predict(X_test)\n",
    "    \n",
    "    accuracy = accuracy_score(y_test, yk_predict)\n",
    "    print(\"k: %2d  accuracy: %f\" % (k, accuracy))\n",
    "    \n"
   ]
  },
  {
   "cell_type": "code",
   "execution_count": null,
   "metadata": {},
   "outputs": [],
   "source": [
    "# Does accuracy always get better by increasing K?\n",
    "# A: No, K does not always get better by increasing K."
   ]
  },
  {
   "cell_type": "code",
   "execution_count": 24,
   "metadata": {},
   "outputs": [
    {
     "name": "stdout",
     "output_type": "stream",
     "text": [
      "feature: sepal_length  accuracy: 0.633333\n",
      "feature: sepal_width   accuracy: 0.533333\n",
      "feature: petal_length  accuracy: 0.966667\n",
      "feature: petal_width   accuracy: 0.933333\n"
     ]
    }
   ],
   "source": [
    "# make prediction based on only ONE single feature\n",
    "\n",
    "# list of feature columns\n",
    "feature_cols = ['sepal_length','sepal_width', 'petal_length', 'petal_width']\n",
    "k = 3\n",
    "\n",
    "for feature_col in feature_cols:\n",
    "    # creates new dataframe for each feature\n",
    "    X_feature = pd.DataFrame(X[feature_col])\n",
    "    Xf_train, Xf_test, yf_train, yf_test = train_test_split(X_feature, y, test_size=0.4, random_state=1)\n",
    "    \n",
    "    # Retrain data using individual feature where K=3\n",
    "    knn = KNeighborsClassifier(n_neighbors=k)\n",
    "    knn.fit(Xf_train, yf_train)\n",
    "    \n",
    "    yf_predict = knn.predict(Xf_test)\n",
    "    \n",
    "    accuracy = accuracy_score(yf_test, yf_predict)\n",
    "    print(\"feature: %-12s  accuracy: %f\" % (feature_col, accuracy))\n",
    "    \n",
    "   "
   ]
  },
  {
   "cell_type": "code",
   "execution_count": 25,
   "metadata": {},
   "outputs": [],
   "source": [
    "# Which individual feature provide the best accuracy (the best feature)?\n",
    "# A: petal_length provides the best accuracy.\n",
    "    \n",
    "# Which one is the second best feature?\n",
    "# A: petal_widgth provides the second best accuracy"
   ]
  },
  {
   "cell_type": "code",
   "execution_count": 26,
   "metadata": {},
   "outputs": [
    {
     "name": "stdout",
     "output_type": "stream",
     "text": [
      "[('sepal_length', 'sepal_width'), ('sepal_length', 'petal_length'), ('sepal_length', 'petal_width'), ('sepal_width', 'petal_length'), ('sepal_width', 'petal_width'), ('petal_length', 'petal_width')]\n"
     ]
    }
   ],
   "source": [
    "# now, we want to repeat part (e), this time using two features\n",
    "\n",
    "\n",
    "# itertools library helps create all the pairs\n",
    "# with the \"combinations\" function\n",
    "import itertools\n",
    "\n",
    "feature_cols = ['sepal_length','sepal_width', 'petal_length', 'petal_width']\n",
    "\n",
    "feature_pairs = list(itertools.combinations(feature_cols, 2))\n",
    "\n",
    "print(feature_pairs)"
   ]
  },
  {
   "cell_type": "code",
   "execution_count": 27,
   "metadata": {},
   "outputs": [
    {
     "name": "stdout",
     "output_type": "stream",
     "text": [
      "feature: ['sepal_length', 'sepal_width']  accuracy: 0.650000\n",
      "feature: ['sepal_length', 'petal_length']  accuracy: 0.933333\n",
      "feature: ['sepal_length', 'petal_width']  accuracy: 0.983333\n",
      "feature: ['sepal_width', 'petal_length']  accuracy: 0.950000\n",
      "feature: ['sepal_width', 'petal_width']  accuracy: 0.966667\n",
      "feature: ['petal_length', 'petal_width']  accuracy: 0.966667\n"
     ]
    }
   ],
   "source": [
    "for feature_pair in feature_pairs:\n",
    "    # creating dataframe for each pair\n",
    "    X_feature_pair = pd.DataFrame(X[list(feature_pair)])\n",
    "    Xp_train, Xp_test, yp_train, yp_test = train_test_split(X_feature_pair, y, test_size=0.4, random_state=1)\n",
    "    \n",
    "    # you have to train, test, and evaluate your model for 6 different cases\n",
    "    # train data where k=3\n",
    "    knn = KNeighborsClassifier(n_neighbors=k)\n",
    "    knn.fit(Xp_train, yp_train)\n",
    "    \n",
    "    yp_predict = knn.predict(Xp_test)\n",
    "    \n",
    "    accuracy = accuracy_score(yp_test, yp_predict)\n",
    "    print(\"feature: %-12s  accuracy: %f\" % (list(feature_pair), accuracy))"
   ]
  },
  {
   "cell_type": "code",
   "execution_count": 28,
   "metadata": {},
   "outputs": [],
   "source": [
    "# Which “feature pair” provides the best accuracy?\n",
    "# the 'sepal_length' and 'petal_width' pair provides the best accuracy."
   ]
  },
  {
   "cell_type": "code",
   "execution_count": null,
   "metadata": {},
   "outputs": [],
   "source": [
    "# Big Question: Does the “best feature pair” from part (f) \n",
    "# contain of both “first best feature” and “second best feature” \n",
    "# from part (e)? In other word, can we conclude that the \n",
    "# “best two features” for classification are the first best feature \n",
    "# along with the second best feature together?\n",
    "\n",
    "# A: We cannot conclude that the \"best two features\" for classification\n",
    "# are the frist and second best features from part (e) because although\n",
    "# one feature did match the other one did not. \n",
    "\n",
    "# Optional Question: Justify your answer for part (g)!\n",
    "# If yes, why?  If no, why not?\n",
    "\n",
    "# A: The \"best feature pair\" cannot be assumed in this circumstance\n",
    "# because the first and second best features found in part (e)\n",
    "# were found to be best individually with no relation to each other.\n",
    "# The \"best feature pair\" is separate because it's finding the \n",
    "# accuracy of them as pairs and not individually. Which although, \n",
    "# sounds like you'd be able to make that deduction, you cannot because\n",
    "# they are completely different statistics."
   ]
  }
 ],
 "metadata": {
  "kernelspec": {
   "display_name": "Python 3",
   "language": "python",
   "name": "python3"
  },
  "language_info": {
   "codemirror_mode": {
    "name": "ipython",
    "version": 3
   },
   "file_extension": ".py",
   "mimetype": "text/x-python",
   "name": "python",
   "nbconvert_exporter": "python",
   "pygments_lexer": "ipython3",
   "version": "3.8.3"
  }
 },
 "nbformat": 4,
 "nbformat_minor": 4
}
