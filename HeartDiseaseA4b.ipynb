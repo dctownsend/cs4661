{
 "cells": [
  {
   "cell_type": "markdown",
   "metadata": {},
   "source": [
    "# A. In this question, we work with a simplified version of Heart dataset. Read the dataset file “Heart_short.csv” from github, and assign it to a Pandas DataFrame:\n",
    "\n",
    "df  = pd.read_csv(\"https://github.com/mpourhoma/CS4661/raw/master/Heart_short.csv\")"
   ]
  },
  {
   "cell_type": "code",
   "execution_count": 2,
   "metadata": {},
   "outputs": [
    {
     "name": "stdout",
     "output_type": "stream",
     "text": [
      "     Age  RestBP  Chol  RestECG  MaxHR  Oldpeak  AHD\n",
      "0     63     145   233        2    150      2.3   No\n",
      "1     67     160   286        2    108      1.5  Yes\n",
      "2     67     120   229        2    129      2.6  Yes\n",
      "3     37     130   250        0    187      3.5   No\n",
      "4     41     130   204        2    172      1.4   No\n",
      "..   ...     ...   ...      ...    ...      ...  ...\n",
      "276   45     110   264        0    132      1.2  Yes\n",
      "277   68     144   193        0    141      3.4  Yes\n",
      "278   57     130   131        0    115      1.2  Yes\n",
      "279   57     130   236        2    174      0.0  Yes\n",
      "280   38     138   175        0    173      0.0   No\n",
      "\n",
      "[281 rows x 7 columns]\n"
     ]
    }
   ],
   "source": [
    "import pandas as pd\n",
    "\n",
    "# empty dataframe\n",
    "df = pd.DataFrame()\n",
    "\n",
    "# read CSV file from github link\n",
    "df = pd.read_csv(\"https://github.com/mpourhoma/CS4661/raw/master/Heart_short.csv\")\n",
    "print(df)"
   ]
  },
  {
   "cell_type": "markdown",
   "metadata": {},
   "source": [
    "# B. Generate the feature matrix and label vector (AHD). Then, normalize (scale) the features."
   ]
  },
  {
   "cell_type": "code",
   "execution_count": 6,
   "metadata": {},
   "outputs": [
    {
     "data": {
      "text/html": [
       "<div>\n",
       "<style scoped>\n",
       "    .dataframe tbody tr th:only-of-type {\n",
       "        vertical-align: middle;\n",
       "    }\n",
       "\n",
       "    .dataframe tbody tr th {\n",
       "        vertical-align: top;\n",
       "    }\n",
       "\n",
       "    .dataframe thead th {\n",
       "        text-align: right;\n",
       "    }\n",
       "</style>\n",
       "<table border=\"1\" class=\"dataframe\">\n",
       "  <thead>\n",
       "    <tr style=\"text-align: right;\">\n",
       "      <th></th>\n",
       "      <th>Age</th>\n",
       "      <th>RestBP</th>\n",
       "      <th>Chol</th>\n",
       "      <th>RestECG</th>\n",
       "      <th>MaxHR</th>\n",
       "      <th>Oldpeak</th>\n",
       "    </tr>\n",
       "  </thead>\n",
       "  <tbody>\n",
       "    <tr>\n",
       "      <th>0</th>\n",
       "      <td>63</td>\n",
       "      <td>145</td>\n",
       "      <td>233</td>\n",
       "      <td>2</td>\n",
       "      <td>150</td>\n",
       "      <td>2.3</td>\n",
       "    </tr>\n",
       "    <tr>\n",
       "      <th>1</th>\n",
       "      <td>67</td>\n",
       "      <td>160</td>\n",
       "      <td>286</td>\n",
       "      <td>2</td>\n",
       "      <td>108</td>\n",
       "      <td>1.5</td>\n",
       "    </tr>\n",
       "    <tr>\n",
       "      <th>2</th>\n",
       "      <td>67</td>\n",
       "      <td>120</td>\n",
       "      <td>229</td>\n",
       "      <td>2</td>\n",
       "      <td>129</td>\n",
       "      <td>2.6</td>\n",
       "    </tr>\n",
       "    <tr>\n",
       "      <th>3</th>\n",
       "      <td>37</td>\n",
       "      <td>130</td>\n",
       "      <td>250</td>\n",
       "      <td>0</td>\n",
       "      <td>187</td>\n",
       "      <td>3.5</td>\n",
       "    </tr>\n",
       "    <tr>\n",
       "      <th>4</th>\n",
       "      <td>41</td>\n",
       "      <td>130</td>\n",
       "      <td>204</td>\n",
       "      <td>2</td>\n",
       "      <td>172</td>\n",
       "      <td>1.4</td>\n",
       "    </tr>\n",
       "  </tbody>\n",
       "</table>\n",
       "</div>"
      ],
      "text/plain": [
       "   Age  RestBP  Chol  RestECG  MaxHR  Oldpeak\n",
       "0   63     145   233        2    150      2.3\n",
       "1   67     160   286        2    108      1.5\n",
       "2   67     120   229        2    129      2.6\n",
       "3   37     130   250        0    187      3.5\n",
       "4   41     130   204        2    172      1.4"
      ]
     },
     "execution_count": 6,
     "metadata": {},
     "output_type": "execute_result"
    }
   ],
   "source": [
    "# Feature Matrix\n",
    "\n",
    "# create list of feature names\n",
    "feature_cols = ['Age', 'RestBP', 'Chol', 'RestECG', 'MaxHR', 'Oldpeak']\n",
    "\n",
    "x = df[feature_cols]\n",
    "\n",
    "x.head()"
   ]
  },
  {
   "cell_type": "code",
   "execution_count": 7,
   "metadata": {},
   "outputs": [
    {
     "name": "stdout",
     "output_type": "stream",
     "text": [
      "(281, 6)\n"
     ]
    }
   ],
   "source": [
    "# checking size of matrix:\n",
    "print(x.shape)"
   ]
  },
  {
   "cell_type": "code",
   "execution_count": 8,
   "metadata": {},
   "outputs": [
    {
     "data": {
      "text/plain": [
       "0      0\n",
       "10     0\n",
       "20     0\n",
       "30     0\n",
       "40     0\n",
       "50     0\n",
       "60     0\n",
       "70     0\n",
       "80     0\n",
       "90     0\n",
       "100    0\n",
       "110    0\n",
       "120    0\n",
       "130    0\n",
       "140    0\n",
       "150    1\n",
       "160    0\n",
       "170    1\n",
       "180    0\n",
       "190    0\n",
       "200    0\n",
       "210    1\n",
       "220    0\n",
       "230    0\n",
       "240    0\n",
       "250    1\n",
       "260    1\n",
       "270    1\n",
       "280    0\n",
       "Name: AHD, dtype: int64"
      ]
     },
     "execution_count": 8,
     "metadata": {},
     "output_type": "execute_result"
    }
   ],
   "source": [
    "# select the last column from the DataFrame\n",
    "y = df['AHD'].eq('Yes').mul(1)\n",
    "\n",
    "# check\n",
    "y[::10]"
   ]
  },
  {
   "cell_type": "code",
   "execution_count": 10,
   "metadata": {},
   "outputs": [
    {
     "name": "stdout",
     "output_type": "stream",
     "text": [
      "          Age    RestBP      Chol   RestECG     MaxHR   Oldpeak  AHD\n",
      "0    0.946195  0.748449 -0.258137  1.045571 -0.009177  1.129814    0\n",
      "1    1.382960  1.595579  0.751963  1.045571 -1.844840  0.434734    1\n",
      "2    1.382960 -0.663434 -0.334371  1.045571 -0.927008  1.390469    1\n",
      "3   -1.892778 -0.098681  0.065857 -0.966795  1.607955  2.172434    0\n",
      "4   -1.456013 -0.098681 -0.810834  1.045571  0.952361  0.347849    0\n",
      "..        ...       ...       ...       ...       ...       ...  ...\n",
      "276 -1.019248 -1.228188  0.332676 -0.966795 -0.795890  0.174079    1\n",
      "277  1.492151  0.691974 -1.020477 -0.966795 -0.402533  2.085549    1\n",
      "278  0.291047 -0.098681 -2.202104 -0.966795 -1.538896  0.174079    1\n",
      "279  0.291047 -0.098681 -0.200962  1.045571  1.039774 -0.868541    1\n",
      "280 -1.783587  0.353122 -1.363530 -0.966795  0.996067 -0.868541    0\n",
      "\n",
      "[281 rows x 7 columns]\n"
     ]
    }
   ],
   "source": [
    "# normalize the feature columns using mean normalization\n",
    "normalized_df = (x - x.mean()) / x.std()\n",
    "\n",
    "x = normalized_df[feature_cols]\n",
    "\n",
    "# add the AHD label to the normalized dataframe\n",
    "normalized_df['AHD'] = y\n",
    "\n",
    "print(normalized_df)"
   ]
  },
  {
   "cell_type": "markdown",
   "metadata": {},
   "source": [
    "# C. Split the dataset into testing and training sets with the following parameters: test_size=0.25, random_state=3."
   ]
  },
  {
   "cell_type": "code",
   "execution_count": 13,
   "metadata": {},
   "outputs": [
    {
     "name": "stdout",
     "output_type": "stream",
     "text": [
      "          Age    RestBP      Chol   RestECG     MaxHR   Oldpeak\n",
      "253  1.055386  2.160332 -0.372488  1.045571  0.209355 -0.347231\n",
      "74   0.509430 -1.228188 -0.143786  1.045571 -0.358827  0.174079\n",
      "230  1.055386 -0.211632  0.313617 -0.966795 -1.975959 -0.694771\n",
      "38   0.072665  0.014270  2.028882 -0.966795 -0.795890  0.174079\n",
      "16  -0.691674 -1.228188 -0.334371 -0.966795  0.777536  0.000309\n",
      "..        ...       ...       ...       ...       ...       ...\n",
      "15   0.291047  1.030826 -1.496939 -0.966795  1.039774  0.521619\n",
      "78  -1.019248 -0.945811  0.256442  1.045571  1.520543 -0.868541\n",
      "109 -0.364100 -2.131793 -0.372488 -0.966795  0.165648 -0.868541\n",
      "122  0.400238 -1.510564 -0.124728  1.045571  0.165648 -0.347231\n",
      "142 -0.691674 -0.437533  0.161149 -0.966795  1.083480 -0.868541\n",
      "\n",
      "[71 rows x 6 columns]\n",
      "\n",
      "\n",
      "253    0\n",
      "74     1\n",
      "230    0\n",
      "38     1\n",
      "16     1\n",
      "      ..\n",
      "15     0\n",
      "78     0\n",
      "109    0\n",
      "122    0\n",
      "142    0\n",
      "Name: AHD, Length: 71, dtype: int64\n"
     ]
    }
   ],
   "source": [
    "# picks 25% of data samples for testing set\n",
    "\n",
    "from sklearn.model_selection import train_test_split\n",
    "\n",
    "x_train, x_test, y_train, y_test = train_test_split(x, y, test_size=0.25, random_state=3)\n",
    "\n",
    "print(x_test)\n",
    "print('\\n')\n",
    "print(y_test)"
   ]
  },
  {
   "cell_type": "markdown",
   "metadata": {},
   "source": [
    "# D. Use Logistic Regression Classifier to predict Heart Disease occurrence based on the training/testing datasets that you built in part(c). Then, compute and report the Accuracy.\n",
    "\n",
    "Now, Use Logistic Regression Classifier to predict the probability of Heart Disease based on the training/testing datasets that you built in part (c) (you have to use “my_logreg.predict_proba” method rather than “my_logreg.predict”). Then, Plot the Roc Curve for this classifier, and also Compute the AUC (Area Under Curve for ROC)."
   ]
  },
  {
   "cell_type": "code",
   "execution_count": 14,
   "metadata": {},
   "outputs": [],
   "source": [
    "from sklearn.linear_model import LogisticRegression\n",
    "\n",
    "logreg = LogisticRegression()"
   ]
  },
  {
   "cell_type": "code",
   "execution_count": 16,
   "metadata": {},
   "outputs": [
    {
     "data": {
      "text/plain": [
       "LogisticRegression()"
      ]
     },
     "execution_count": 16,
     "metadata": {},
     "output_type": "execute_result"
    }
   ],
   "source": [
    "# using fit method - training only on the training set\n",
    "logreg.fit(x_train, y_train)"
   ]
  },
  {
   "cell_type": "code",
   "execution_count": 17,
   "metadata": {},
   "outputs": [
    {
     "name": "stdout",
     "output_type": "stream",
     "text": [
      "[1 0 1 1 0 0 0 0 1 0 1 0 1 1 0 0 1 0 1 1 0 0 1 0 1 0 0 1 0 0 1 1 1 0 0 1 1\n",
      " 0 1 0 0 1 0 0 1 1 0 0 1 0 0 1 0 1 0 0 0 0 0 0 1 0 0 0 0 0 0 0 0 0 0]\n"
     ]
    }
   ],
   "source": [
    "# testing on the testing set\n",
    "y_predict_logreg = logreg.predict(x_test)\n",
    "\n",
    "print(y_predict_logreg)"
   ]
  },
  {
   "cell_type": "code",
   "execution_count": 18,
   "metadata": {},
   "outputs": [
    {
     "name": "stdout",
     "output_type": "stream",
     "text": [
      "0.7183098591549296\n"
     ]
    }
   ],
   "source": [
    "# logistic regression accuracy evaluation\n",
    "from sklearn.metrics import accuracy_score\n",
    "\n",
    "accuracy_logreg = accuracy_score(y_test, y_predict_logreg)\n",
    "\n",
    "print(accuracy_logreg)"
   ]
  },
  {
   "cell_type": "code",
   "execution_count": 20,
   "metadata": {},
   "outputs": [
    {
     "name": "stdout",
     "output_type": "stream",
     "text": [
      "[[0.4984775  0.5015225 ]\n",
      " [0.55151993 0.44848007]\n",
      " [0.39516326 0.60483674]\n",
      " [0.39639956 0.60360044]\n",
      " [0.84630632 0.15369368]\n",
      " [0.77040107 0.22959893]\n",
      " [0.73482529 0.26517471]\n",
      " [0.86546656 0.13453344]\n",
      " [0.35533417 0.64466583]\n",
      " [0.67079933 0.32920067]\n",
      " [0.09561384 0.90438616]\n",
      " [0.91923088 0.08076912]\n",
      " [0.29100204 0.70899796]\n",
      " [0.43046424 0.56953576]\n",
      " [0.66807459 0.33192541]\n",
      " [0.85922722 0.14077278]\n",
      " [0.11601878 0.88398122]\n",
      " [0.68323128 0.31676872]\n",
      " [0.1124336  0.8875664 ]\n",
      " [0.3349011  0.6650989 ]\n",
      " [0.85410194 0.14589806]\n",
      " [0.86374193 0.13625807]\n",
      " [0.22499744 0.77500256]\n",
      " [0.92908907 0.07091093]\n",
      " [0.10922259 0.89077741]\n",
      " [0.57442055 0.42557945]\n",
      " [0.72926215 0.27073785]\n",
      " [0.43214504 0.56785496]\n",
      " [0.6775139  0.3224861 ]\n",
      " [0.77597533 0.22402467]\n",
      " [0.30117121 0.69882879]\n",
      " [0.1086773  0.8913227 ]\n",
      " [0.17560758 0.82439242]\n",
      " [0.89155965 0.10844035]\n",
      " [0.81004923 0.18995077]\n",
      " [0.01130368 0.98869632]\n",
      " [0.06728968 0.93271032]\n",
      " [0.73256687 0.26743313]\n",
      " [0.2048516  0.7951484 ]\n",
      " [0.51452402 0.48547598]\n",
      " [0.71699985 0.28300015]\n",
      " [0.30590201 0.69409799]\n",
      " [0.66333238 0.33666762]\n",
      " [0.82074671 0.17925329]\n",
      " [0.03390835 0.96609165]\n",
      " [0.33732883 0.66267117]\n",
      " [0.87468818 0.12531182]\n",
      " [0.85653525 0.14346475]\n",
      " [0.36828487 0.63171513]\n",
      " [0.59762549 0.40237451]\n",
      " [0.62964192 0.37035808]\n",
      " [0.19472194 0.80527806]\n",
      " [0.96085412 0.03914588]\n",
      " [0.23066339 0.76933661]\n",
      " [0.88830876 0.11169124]\n",
      " [0.80532553 0.19467447]\n",
      " [0.88752765 0.11247235]\n",
      " [0.6431729  0.3568271 ]\n",
      " [0.83716765 0.16283235]\n",
      " [0.77049213 0.22950787]\n",
      " [0.27751781 0.72248219]\n",
      " [0.82838092 0.17161908]\n",
      " [0.76702698 0.23297302]\n",
      " [0.66243882 0.33756118]\n",
      " [0.75595119 0.24404881]\n",
      " [0.8754176  0.1245824 ]\n",
      " [0.6951418  0.3048582 ]\n",
      " [0.92699878 0.07300122]\n",
      " [0.90589337 0.09410663]\n",
      " [0.77005441 0.22994559]\n",
      " [0.9169707  0.0830293 ]]\n"
     ]
    }
   ],
   "source": [
    "# estimating the likelihood for each Label: \n",
    "y_proba_logreg = logreg.predict_proba(x_test)\n",
    "\n",
    "print(y_proba_logreg)"
   ]
  },
  {
   "cell_type": "code",
   "execution_count": 22,
   "metadata": {},
   "outputs": [
    {
     "name": "stdout",
     "output_type": "stream",
     "text": [
      "actual label of the testing set: \n",
      "253    0\n",
      "74     1\n",
      "230    0\n",
      "38     1\n",
      "16     1\n",
      "      ..\n",
      "15     0\n",
      "78     0\n",
      "109    0\n",
      "122    0\n",
      "142    0\n",
      "Name: AHD, Length: 71, dtype: int64\n",
      "\n",
      "\n",
      "predicted label for the testing set: \n",
      "[1 0 1 1 0 0 0 0 1 0 1 0 1 1 0 0 1 0 1 1 0 0 1 0 1 0 0 1 0 0 1 1 1 0 0 1 1\n",
      " 0 1 0 0 1 0 0 1 1 0 0 1 0 0 1 0 1 0 0 0 0 0 0 1 0 0 0 0 0 0 0 0 0 0]\n",
      "\n",
      "\n",
      "estimated likelihood of both label for the testing set: \n",
      "[[0.4984775  0.5015225 ]\n",
      " [0.55151993 0.44848007]\n",
      " [0.39516326 0.60483674]\n",
      " [0.39639956 0.60360044]\n",
      " [0.84630632 0.15369368]\n",
      " [0.77040107 0.22959893]\n",
      " [0.73482529 0.26517471]\n",
      " [0.86546656 0.13453344]\n",
      " [0.35533417 0.64466583]\n",
      " [0.67079933 0.32920067]\n",
      " [0.09561384 0.90438616]\n",
      " [0.91923088 0.08076912]\n",
      " [0.29100204 0.70899796]\n",
      " [0.43046424 0.56953576]\n",
      " [0.66807459 0.33192541]\n",
      " [0.85922722 0.14077278]\n",
      " [0.11601878 0.88398122]\n",
      " [0.68323128 0.31676872]\n",
      " [0.1124336  0.8875664 ]\n",
      " [0.3349011  0.6650989 ]\n",
      " [0.85410194 0.14589806]\n",
      " [0.86374193 0.13625807]\n",
      " [0.22499744 0.77500256]\n",
      " [0.92908907 0.07091093]\n",
      " [0.10922259 0.89077741]\n",
      " [0.57442055 0.42557945]\n",
      " [0.72926215 0.27073785]\n",
      " [0.43214504 0.56785496]\n",
      " [0.6775139  0.3224861 ]\n",
      " [0.77597533 0.22402467]\n",
      " [0.30117121 0.69882879]\n",
      " [0.1086773  0.8913227 ]\n",
      " [0.17560758 0.82439242]\n",
      " [0.89155965 0.10844035]\n",
      " [0.81004923 0.18995077]\n",
      " [0.01130368 0.98869632]\n",
      " [0.06728968 0.93271032]\n",
      " [0.73256687 0.26743313]\n",
      " [0.2048516  0.7951484 ]\n",
      " [0.51452402 0.48547598]\n",
      " [0.71699985 0.28300015]\n",
      " [0.30590201 0.69409799]\n",
      " [0.66333238 0.33666762]\n",
      " [0.82074671 0.17925329]\n",
      " [0.03390835 0.96609165]\n",
      " [0.33732883 0.66267117]\n",
      " [0.87468818 0.12531182]\n",
      " [0.85653525 0.14346475]\n",
      " [0.36828487 0.63171513]\n",
      " [0.59762549 0.40237451]\n",
      " [0.62964192 0.37035808]\n",
      " [0.19472194 0.80527806]\n",
      " [0.96085412 0.03914588]\n",
      " [0.23066339 0.76933661]\n",
      " [0.88830876 0.11169124]\n",
      " [0.80532553 0.19467447]\n",
      " [0.88752765 0.11247235]\n",
      " [0.6431729  0.3568271 ]\n",
      " [0.83716765 0.16283235]\n",
      " [0.77049213 0.22950787]\n",
      " [0.27751781 0.72248219]\n",
      " [0.82838092 0.17161908]\n",
      " [0.76702698 0.23297302]\n",
      " [0.66243882 0.33756118]\n",
      " [0.75595119 0.24404881]\n",
      " [0.8754176  0.1245824 ]\n",
      " [0.6951418  0.3048582 ]\n",
      " [0.92699878 0.07300122]\n",
      " [0.90589337 0.09410663]\n",
      " [0.77005441 0.22994559]\n",
      " [0.9169707  0.0830293 ]]\n",
      "\n",
      "\n",
      "estimated likelihood of label=1 for the testing set: \n",
      "[0.5015225  0.44848007 0.60483674 0.60360044 0.15369368 0.22959893\n",
      " 0.26517471 0.13453344 0.64466583 0.32920067 0.90438616 0.08076912\n",
      " 0.70899796 0.56953576 0.33192541 0.14077278 0.88398122 0.31676872\n",
      " 0.8875664  0.6650989  0.14589806 0.13625807 0.77500256 0.07091093\n",
      " 0.89077741 0.42557945 0.27073785 0.56785496 0.3224861  0.22402467\n",
      " 0.69882879 0.8913227  0.82439242 0.10844035 0.18995077 0.98869632\n",
      " 0.93271032 0.26743313 0.7951484  0.48547598 0.28300015 0.69409799\n",
      " 0.33666762 0.17925329 0.96609165 0.66267117 0.12531182 0.14346475\n",
      " 0.63171513 0.40237451 0.37035808 0.80527806 0.03914588 0.76933661\n",
      " 0.11169124 0.19467447 0.11247235 0.3568271  0.16283235 0.22950787\n",
      " 0.72248219 0.17161908 0.23297302 0.33756118 0.24404881 0.1245824\n",
      " 0.3048582  0.07300122 0.09410663 0.22994559 0.0830293 ]\n",
      "\n",
      "\n"
     ]
    }
   ],
   "source": [
    "print(\"actual label of the testing set: \")\n",
    "print(y_test)\n",
    "print(\"\\n\")\n",
    "\n",
    "print(\"predicted label for the testing set: \")\n",
    "print(y_predict_logreg)\n",
    "print(\"\\n\")\n",
    "\n",
    "print(\"estimated likelihood of both labels for the testing set: \")\n",
    "print(y_proba_logreg)\n",
    "print(\"\\n\")\n",
    "\n",
    "print(\"estimated likelihood of label=1 for the testing set: \")\n",
    "print(y_proba_logreg[:,1])\n",
    "print(\"\\n\")"
   ]
  },
  {
   "cell_type": "code",
   "execution_count": 23,
   "metadata": {},
   "outputs": [
    {
     "name": "stdout",
     "output_type": "stream",
     "text": [
      "[0.         0.         0.02439024 0.02439024 0.04878049 0.04878049\n",
      " 0.09756098 0.09756098 0.12195122 0.12195122 0.14634146 0.14634146\n",
      " 0.2195122  0.2195122  0.29268293 0.29268293 0.3902439  0.3902439\n",
      " 0.41463415 0.41463415 0.46341463 0.46341463 0.56097561 0.56097561\n",
      " 0.68292683 0.68292683 0.70731707 0.70731707 0.73170732 0.73170732\n",
      " 1.        ]\n",
      "[0.         0.03333333 0.03333333 0.33333333 0.33333333 0.36666667\n",
      " 0.36666667 0.4        0.4        0.53333333 0.53333333 0.6\n",
      " 0.6        0.63333333 0.63333333 0.7        0.7        0.73333333\n",
      " 0.73333333 0.76666667 0.76666667 0.83333333 0.83333333 0.86666667\n",
      " 0.86666667 0.93333333 0.93333333 0.96666667 0.96666667 1.\n",
      " 1.        ]\n"
     ]
    }
   ],
   "source": [
    "# positive and false rate\n",
    "from sklearn import metrics\n",
    "\n",
    "fpr, tpr, thresholds = metrics.roc_curve(y_test, y_proba_logreg[:,1], pos_label=1)\n",
    "\n",
    "print(fpr)\n",
    "print(tpr)"
   ]
  },
  {
   "cell_type": "code",
   "execution_count": 26,
   "metadata": {},
   "outputs": [
    {
     "name": "stdout",
     "output_type": "stream",
     "text": [
      "0.7650406504065042\n"
     ]
    }
   ],
   "source": [
    "# area under the curve:\n",
    "AUC = metrics.auc(fpr, tpr)\n",
    "print(AUC)"
   ]
  },
  {
   "cell_type": "code",
   "execution_count": 27,
   "metadata": {},
   "outputs": [
    {
     "data": {
      "image/png": "[encoded data removed]",
      "text/plain": [
       "<Figure size 432x288 with 1 Axes>"
      ]
     },
     "metadata": {
      "needs_background": "light"
     },
     "output_type": "display_data"
    }
   ],
   "source": [
    "# ROC curve\n",
    "import matplotlib.pyplot as plt\n",
    "\n",
    "# tells Jupyter Notebook to keep the figures inside page \n",
    "# instead of opening a new window:\n",
    "%matplotlib inline\n",
    "\n",
    "plt.figure()\n",
    "\n",
    "# roc curve:\n",
    "plt.plot(fpr, tpr, color='red', lw=2, \n",
    "         label='ROC Curve (area = %0.2f)' % AUC)\n",
    "\n",
    "# random guess line:\n",
    "plt.plot([0, 1], [0, 1], color='blue', lw=1, linestyle='--')\n",
    "\n",
    "# define range of x-axis and y-axis:\n",
    "plt.xlim([-0.005, 1.005])\n",
    "plt.ylim([0.0, 1.01])\n",
    "\n",
    "# labels, title, legend:\n",
    "plt.xlabel('False Positive Rate')\n",
    "plt.ylabel('True Positive Rate')\n",
    "plt.title('Receiver operating characteristic')\n",
    "plt.legend(loc=\"lower right\")\n",
    "\n",
    "plt.show()"
   ]
  },
  {
   "cell_type": "code",
   "execution_count": null,
   "metadata": {},
   "outputs": [],
   "source": []
  }
 ],
 "metadata": {
  "kernelspec": {
   "display_name": "Python 3",
   "language": "python",
   "name": "python3"
  },
  "language_info": {
   "codemirror_mode": {
    "name": "ipython",
    "version": 3
   },
   "file_extension": ".py",
   "mimetype": "text/x-python",
   "name": "python",
   "nbconvert_exporter": "python",
   "pygments_lexer": "ipython3",
   "version": "3.8.3"
  }
 },
 "nbformat": 4,
 "nbformat_minor": 4
}
